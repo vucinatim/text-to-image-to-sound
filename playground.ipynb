{
 "cells": [
  {
   "cell_type": "code",
   "execution_count": 1,
   "metadata": {},
   "outputs": [
    {
     "name": "stderr",
     "output_type": "stream",
     "text": [
      "c:\\Users\\timvu\\OneDrive\\Desktop\\Master Seminarska - RZP\\text-to-image-to-sound\\.env\\lib\\site-packages\\tqdm\\auto.py:22: TqdmWarning: IProgress not found. Please update jupyter and ipywidgets. See https://ipywidgets.readthedocs.io/en/stable/user_install.html\n",
      "  from .autonotebook import tqdm as notebook_tqdm\n"
     ]
    }
   ],
   "source": [
    "from glob import glob\n",
    "import matplotlib.pyplot as plt\n",
    "import librosa\n",
    "import librosa.display\n",
    "import numpy as np\n",
    "import soundfile as sf\n",
    "import pandas as pd\n",
    "from matplotlib import cm\n",
    "import math\n",
    "import matplotlib.colors as colors\n",
    "\n",
    "# import cv2\n",
    "from PIL import Image as PilImage\n",
    "from IPython.display import display\n",
    "from datasets import Dataset, load_dataset, Image, Audio, Features, DatasetInfo\n",
    "import json"
   ]
  },
  {
   "cell_type": "code",
   "execution_count": 2,
   "metadata": {},
   "outputs": [],
   "source": [
    "# cmap = colors.LinearSegmentedColormap.from_list(\"my_cmap\", [\"black\", \"purple\", \"blue\", \"green\", \"yellow\", \"orange\", \"red\", \"white\"])\n",
    "cmap = cm.get_cmap('hsv')\n",
    "norm = colors.Normalize(vmin=-80, vmax=0, clip=True)\n",
    "mapper = cm.ScalarMappable(norm=norm, cmap=cmap)"
   ]
  },
  {
   "cell_type": "code",
   "execution_count": 3,
   "metadata": {},
   "outputs": [
    {
     "name": "stdout",
     "output_type": "stream",
     "text": [
      "(110250,)\n",
      "(256, 256)\n",
      "[[143.91809  134.58466   96.3939   ...   0.         0.         0.      ]\n",
      " [145.38023  134.00594  122.83912  ...   0.         0.         0.      ]\n",
      " [153.53192  153.0042   138.32568  ...   0.         0.         0.      ]\n",
      " ...\n",
      " [ 71.707054  64.18032   38.123325 ...   0.         0.         0.      ]\n",
      " [ 54.99279   41.94863    0.       ...   0.         0.         0.      ]\n",
      " [ 54.136528  40.550453   0.       ...   0.         0.         0.      ]]\n"
     ]
    }
   ],
   "source": [
    "audio_file_path = \"./datasets/ERC-50/audio/3-130330-A-22.wav\"\n",
    "\n",
    "y, sr = librosa.core.load(audio_file_path, sr=22050)\n",
    "print(y.shape)\n",
    "melspec = librosa.feature.melspectrogram(y=y, sr=sr, n_mels=256, hop_length=431)\n",
    "melspec = librosa.power_to_db(melspec, ref=np.max)\n",
    "\n",
    "melspec = (melspec + 80) / 80 * 255\n",
    "im = PilImage.fromarray(melspec.astype(np.uint8))\n",
    "im.show()\n",
    "im.save('image_file_path.png')\n",
    "\n",
    "print(melspec.shape)\n",
    "print(melspec)\n"
   ]
  },
  {
   "cell_type": "code",
   "execution_count": 4,
   "metadata": {},
   "outputs": [],
   "source": [
    "# Initialize an empty 3D image array\n",
    "image = np.zeros((melspec.shape[0], melspec.shape[1], 4), dtype=np.uint8)\n",
    "\n",
    "# Iterate over the elements of the 2D array and assign the corresponding color\n",
    "for i in range(melspec.shape[0]):\n",
    "    for j in range(melspec.shape[1]):\n",
    "        image[i, j, :] = mapper.to_rgba(melspec[i, j], bytes=True)\n",
    "\n",
    "im = PilImage.fromarray(image)\n",
    "im.show()"
   ]
  },
  {
   "cell_type": "code",
   "execution_count": 5,
   "metadata": {},
   "outputs": [
    {
     "name": "stdout",
     "output_type": "stream",
     "text": [
      "(256, 256)\n",
      "[[0. 0. 0. ... 0. 0. 0.]\n",
      " [0. 0. 0. ... 0. 0. 0.]\n",
      " [0. 0. 0. ... 0. 0. 0.]\n",
      " ...\n",
      " [0. 0. 0. ... 0. 0. 0.]\n",
      " [0. 0. 0. ... 0. 0. 0.]\n",
      " [0. 0. 0. ... 0. 0. 0.]]\n"
     ]
    }
   ],
   "source": [
    "def get_value_from_cm(color, cmap, colrange):\n",
    "    color = np.array(color)/255. \n",
    "    r = np.linspace(colrange[0], colrange[1], 256) \n",
    "    norm = colors.Normalize(colrange[0], colrange[1])\n",
    "    mapvals = cmap(norm(r))[:, :4]\n",
    "    distance = np.sum((mapvals - color) ** 2, axis=1)\n",
    "    return r[np.argmin(distance)]\n",
    "\n",
    "spec = np.zeros((im.height, im.width))\n",
    "for i in range(im.height):\n",
    "    for j in range(im.width):\n",
    "        spec[i][j] = get_value_from_cm(im.getpixel((j, i)), cmap, colrange=[-80, 0])\n",
    "\n",
    "print(spec.shape)\n",
    "print(spec)\n",
    "\n"
   ]
  },
  {
   "cell_type": "code",
   "execution_count": 6,
   "metadata": {},
   "outputs": [],
   "source": [
    "out_spec = librosa.db_to_power(spec)\n",
    "y = librosa.feature.inverse.mel_to_audio(out_spec, sr=22050, hop_length=431)\n",
    "sf.write(f\"out.wav\", y, sr)"
   ]
  }
 ],
 "metadata": {
  "kernelspec": {
   "display_name": ".env",
   "language": "python",
   "name": "python3"
  },
  "language_info": {
   "codemirror_mode": {
    "name": "ipython",
    "version": 3
   },
   "file_extension": ".py",
   "mimetype": "text/x-python",
   "name": "python",
   "nbconvert_exporter": "python",
   "pygments_lexer": "ipython3",
   "version": "3.9.5 (default, May 18 2021, 14:42:02) [MSC v.1916 64 bit (AMD64)]"
  },
  "orig_nbformat": 4,
  "vscode": {
   "interpreter": {
    "hash": "9e2b2f63e3e87c93ab3f15e999fe313e2db6b79487d6fecf33fb4f5d35c536c7"
   }
  }
 },
 "nbformat": 4,
 "nbformat_minor": 2
}
